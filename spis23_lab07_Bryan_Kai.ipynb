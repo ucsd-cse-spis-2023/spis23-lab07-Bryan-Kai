{
  "nbformat": 4,
  "nbformat_minor": 0,
  "metadata": {
    "colab": {
      "provenance": [],
      "authorship_tag": "ABX9TyOjed3CADh4gd9XvSKokqKu",
      "include_colab_link": true
    },
    "kernelspec": {
      "name": "python3",
      "display_name": "Python 3"
    },
    "language_info": {
      "name": "python"
    }
  },
  "cells": [
    {
      "cell_type": "markdown",
      "metadata": {
        "id": "view-in-github",
        "colab_type": "text"
      },
      "source": [
        "<a href=\"https://colab.research.google.com/github/ucsd-cse-spis-2023/spis23-lab07-Bryan-Kai/blob/main/spis23_lab07_Bryan_Kai.ipynb\" target=\"_parent\"><img src=\"https://colab.research.google.com/assets/colab-badge.svg\" alt=\"Open In Colab\"/></a>"
      ]
    },
    {
      "cell_type": "code",
      "execution_count": null,
      "metadata": {
        "id": "rHYQpsQAeY2C",
        "colab": {
          "base_uri": "https://localhost:8080/"
        },
        "outputId": "7274e030-925f-4677-db88-0400c3b880af"
      },
      "outputs": [
        {
          "output_type": "execute_result",
          "data": {
            "text/plain": [
              "{'Yea': ['baby'],\n",
              " 'baby': ['I'],\n",
              " 'I': ['like', 'tell', 'said', 'like'],\n",
              " 'like': ['it', 'that', 'it', 'that'],\n",
              " 'it': ['like', 'like'],\n",
              " 'that': ['You'],\n",
              " 'You': ['gotta'],\n",
              " 'gotta': ['believe'],\n",
              " 'believe': ['me'],\n",
              " 'me': ['when'],\n",
              " 'when': ['I'],\n",
              " 'tell': ['you'],\n",
              " 'you': ['I'],\n",
              " 'said': ['I']}"
            ]
          },
          "metadata": {},
          "execution_count": 34
        }
      ],
      "source": [
        "#training model\n",
        "def train(s):\n",
        "\n",
        "  wordDictionary = {}\n",
        "  words = s.split()\n",
        "  for i in range(len(words)-1):\n",
        "    currentWord = words[i]\n",
        "    nextWord = words[i+1]\n",
        "    if currentWord in wordDictionary:\n",
        "      wordDictionary[currentWord].append(nextWord)\n",
        "    else:\n",
        "      wordDictionary[currentWord] = [nextWord]\n",
        "\n",
        "  return wordDictionary\n",
        "\n",
        "train(\"Yea baby I like it like that You gotta believe me when I tell you I said I like it like that\")"
      ]
    },
    {
      "cell_type": "code",
      "source": [
        "# learning syntax from mentor\n",
        "dictionary = {}\n",
        "dictionary[\"Greeting\"] = [\"Hi\", \"Hello\", \"Hey\"]\n",
        "print(dictionary)"
      ],
      "metadata": {
        "colab": {
          "base_uri": "https://localhost:8080/"
        },
        "id": "X1kDuNq8kBgM",
        "outputId": "00351276-bdeb-49fd-ac3f-9bd685f95bd9"
      },
      "execution_count": null,
      "outputs": [
        {
          "output_type": "stream",
          "name": "stdout",
          "text": [
            "{'Greeting': ['Hi', 'Hello', 'Hey']}\n"
          ]
        }
      ]
    },
    {
      "cell_type": "code",
      "source": [
        "dictionary[\"Greeting\"].append(\"Howdy\")"
      ],
      "metadata": {
        "id": "WZxyxyZzkN_c"
      },
      "execution_count": null,
      "outputs": []
    },
    {
      "cell_type": "code",
      "source": [
        "print(dictionary[\"Greeting\"])"
      ],
      "metadata": {
        "colab": {
          "base_uri": "https://localhost:8080/"
        },
        "id": "YYTVCkK0ktO0",
        "outputId": "f7cea92f-9518-424c-80ea-24a8e2480281"
      },
      "execution_count": null,
      "outputs": [
        {
          "output_type": "stream",
          "name": "stdout",
          "text": [
            "['Hi', 'Hello', 'Hey', 'Howdy']\n"
          ]
        }
      ]
    },
    {
      "cell_type": "code",
      "source": [
        "print(\"wassup\" in dictionary)"
      ],
      "metadata": {
        "colab": {
          "base_uri": "https://localhost:8080/"
        },
        "id": "yoq-wqz3kwZ7",
        "outputId": "d4a82444-5bd5-4091-de5b-ab30407b9253"
      },
      "execution_count": null,
      "outputs": [
        {
          "output_type": "stream",
          "name": "stdout",
          "text": [
            "False\n"
          ]
        }
      ]
    }
  ]
}